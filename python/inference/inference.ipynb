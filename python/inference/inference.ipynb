{
 "cells": [
  {
   "cell_type": "markdown",
   "metadata": {},
   "source": [
    "## Load trained GNN"
   ]
  },
  {
   "cell_type": "code",
   "execution_count": 1,
   "metadata": {},
   "outputs": [],
   "source": [
    "import torch\n",
    "import torch.nn as nn\n",
    "import torch.functional as F\n",
    "import re\n",
    "import itertools\n",
    "import sys\n",
    "sys.path.append(\"/Users/raffaelepojer/Dev/RBN-GNN/python/\")\n",
    "from gnn.ACR_graph import *"
   ]
  },
  {
   "cell_type": "code",
   "execution_count": 2,
   "metadata": {},
   "outputs": [
    {
     "data": {
      "text/plain": [
       "MYACRGnnGraph(\n",
       "  (layers): ModuleList(\n",
       "    (0-2): 3 x MYACRConv()\n",
       "  )\n",
       "  (linear): Linear(in_features=6, out_features=2, bias=True)\n",
       ")"
      ]
     },
     "execution_count": 2,
     "metadata": {},
     "output_type": "execute_result"
    }
   ],
   "source": [
    "model = MYACRGnnGraph(\n",
    "    input_dim=7,\n",
    "    hidden_dim=[10, 8, 6],\n",
    "    num_layers=3,\n",
    "    mlp_layers=0,\n",
    "    final_read=\"add\",\n",
    "    num_classes=2,\n",
    "    fwd_dp=0.1,\n",
    "    lin_dp=0.1,\n",
    "    mlp_dp=0.3\n",
    ")\n",
    "\n",
    "criterion = nn.CrossEntropyLoss()\n",
    "model.load_state_dict(torch.load(f\"/Users/raffaelepojer/Dev/RBN-GNN/models/triangle_10_8_6_20230725-152135/exp_41/rbn_acr_graph_triangle_10_8_6_add.pt\"))\n",
    "model.eval()"
   ]
  },
  {
   "cell_type": "code",
   "execution_count": 3,
   "metadata": {},
   "outputs": [],
   "source": [
    "def extract_edges(file_path):\n",
    "    file = open(file_path, \"r\")\n",
    "    lines = []\n",
    "    for x in file:\n",
    "        lines.append(x.strip())\n",
    "\n",
    "    lambda1 = lambda s: int(str(s[-1]))\n",
    "    features = []\n",
    "    first = 0\n",
    "    for i, l in enumerate(lines):\n",
    "        if l == \"<ProbabilisticRelsCase>\":\n",
    "            first = i\n",
    "        if i > first and \"edge\" in l and \"true\" in l:\n",
    "            for match in re.findall(r'(?<=\\().*?(?=\\))',l):\n",
    "                a,b = map(lambda1, match.split(','))\n",
    "                features.append([a, b])\n",
    "                features.append([b, a])\n",
    "            break\n",
    "    features.sort()\n",
    "\n",
    "    if len(features) > 0:\n",
    "        return torch.tensor(list(k for k,_ in itertools.groupby(features))).t()\n",
    "    else:\n",
    "        a = torch.tensor([[]], dtype=torch.long)\n",
    "        b = torch.tensor([[]], dtype=torch.long)\n",
    "        edge_index = torch.cat((a, b), 0)\n",
    "        return edge_index\n",
    "\n",
    "def count_nodes(file_path):\n",
    "    file = open(file_path, \"r\")\n",
    "    lines = []\n",
    "    for x in file:\n",
    "        lines.append(x.strip())\n",
    "    lambda1 = lambda s: int(s[-1])\n",
    "    nodes = []\n",
    "    first = 0\n",
    "    for i, l in enumerate(lines):\n",
    "        if l == \"<PredefinedRels>\":\n",
    "            first = i\n",
    "        if i > first and \"node\" in l and \"true\" in l:\n",
    "            regex = r\"(?<=\\()[a-zA-Z0-9_]+(?=\\))\"\n",
    "            match = re.findall(regex, \"\".join(l))\n",
    "            nodes = list(map(lambda1, match))\n",
    "    return len(nodes)\n",
    "\n",
    "def extract_features(file_path):\n",
    "    features_name = ['A', 'B', 'C', 'D', 'E', 'F', 'G']\n",
    "    file = open(file_path, \"r\")\n",
    "    lines = []\n",
    "    for x in file:\n",
    "        lines.append(x.strip())\n",
    "\n",
    "    lambda1 = lambda s: int(s[-1])\n",
    "    all_features = []\n",
    "    num_nodes = count_nodes(file_path)\n",
    "    for i in range(num_nodes):\n",
    "        all_features.append([0.0]*7)\n",
    "\n",
    "    first = 0\n",
    "    for i, l in enumerate(lines):\n",
    "        if l == \"<ProbabilisticRelsCase>\":\n",
    "            first = i\n",
    "        \n",
    "        match = re.search(r'rel=\"([^\"]*)\"', l)\n",
    "        for j, feature in enumerate(features_name):\n",
    "            if i > first and match and match.group(1) in features_name and match.group(1) in feature and \"true\" in l:\n",
    "                regex = r\"(?<=\\()[a-zA-Z0-9_]+(?=\\))\"\n",
    "                match = re.findall(regex, \"\".join(l))\n",
    "                nodes = list(map(lambda1, match))\n",
    "                for idx in nodes:\n",
    "                    all_features[idx][j] = 1.0\n",
    "                break\n",
    "            \n",
    "    return(all_features)"
   ]
  },
  {
   "cell_type": "markdown",
   "metadata": {},
   "source": [
    "# Test probabilities"
   ]
  },
  {
   "cell_type": "code",
   "execution_count": 28,
   "metadata": {},
   "outputs": [
    {
     "name": "stdout",
     "output_type": "stream",
     "text": [
      "tensor([[0, 1, 2, 3, 3, 4, 5, 5],\n",
      "        [5, 3, 5, 1, 4, 3, 0, 2]])\n",
      "tensor([[0.8870, 0.1130]], grad_fn=<SoftmaxBackward0>)\n"
     ]
    },
    {
     "name": "stderr",
     "output_type": "stream",
     "text": [
      "/var/folders/cx/q4nyk81514qb1xtxy82fkxhm0000gn/T/ipykernel_93056/156781511.py:3: UserWarning: To copy construct from a tensor, it is recommended to use sourceTensor.clone().detach() or sourceTensor.clone().detach().requires_grad_(True), rather than torch.tensor(sourceTensor).\n",
      "  edge_index = torch.tensor(extract_edges(file_path))\n"
     ]
    }
   ],
   "source": [
    "file_path = f\"/Users/raffaelepojer/Dev/RBN-GNN/models/triangle_10_8_6_20230725-152135/exp_41/graphs/10_restarts/0_graphs/edge_030/n8.rdef\"\n",
    "\n",
    "edge_index = torch.tensor(extract_edges(file_path))\n",
    "print(edge_index)\n",
    "\n",
    "x = torch.tensor(extract_features(file_path))\n",
    "batch = torch.zeros(x.size()[0]).type(torch.LongTensor)\n",
    "\n",
    "out = model(x, edge_index, batch)\n",
    "m = nn.Softmax(dim=1)\n",
    "print(m(out))"
   ]
  },
  {
   "cell_type": "code",
   "execution_count": 28,
   "metadata": {},
   "outputs": [
    {
     "name": "stdout",
     "output_type": "stream",
     "text": [
      "[0.026286710053682327, 0.012315792962908745, 0.019411813467741013, 0.0437067411839962, 0.8869744539260864, 0.9391584396362305, 0.9592694640159607]\n"
     ]
    },
    {
     "name": "stderr",
     "output_type": "stream",
     "text": [
      "/var/folders/cx/q4nyk81514qb1xtxy82fkxhm0000gn/T/ipykernel_77552/1801593941.py:5: UserWarning: To copy construct from a tensor, it is recommended to use sourceTensor.clone().detach() or sourceTensor.clone().detach().requires_grad_(True), rather than torch.tensor(sourceTensor).\n",
      "  edge_index = torch.tensor(extract_edges(file_path))\n"
     ]
    },
    {
     "ename": "ValueError",
     "evalue": "Grouper for '2' not 1-dimensional",
     "output_type": "error",
     "traceback": [
      "\u001b[0;31m---------------------------------------------------------------------------\u001b[0m",
      "\u001b[0;31mValueError\u001b[0m                                Traceback (most recent call last)",
      "Cell \u001b[0;32mIn[28], line 29\u001b[0m\n\u001b[1;32m     27\u001b[0m \u001b[39m# Create the bar chart\u001b[39;00m\n\u001b[1;32m     28\u001b[0m plt\u001b[39m.\u001b[39mfigure(figsize\u001b[39m=\u001b[39m(\u001b[39m8\u001b[39m, \u001b[39m6\u001b[39m), dpi\u001b[39m=\u001b[39m\u001b[39m100\u001b[39m)  \u001b[39m# Adjust the figure size and dpi as needed\u001b[39;00m\n\u001b[0;32m---> 29\u001b[0m sns\u001b[39m.\u001b[39;49mbarplot(x\u001b[39m=\u001b[39;49mnum_nodes, y\u001b[39m=\u001b[39;49mprobs, color\u001b[39m=\u001b[39;49m\u001b[39m'\u001b[39;49m\u001b[39mskyblue\u001b[39;49m\u001b[39m'\u001b[39;49m)\n\u001b[1;32m     31\u001b[0m \u001b[39m# Add labels and title\u001b[39;00m\n\u001b[1;32m     32\u001b[0m plt\u001b[39m.\u001b[39mxlabel(\u001b[39m'\u001b[39m\u001b[39mNumber of Nodes\u001b[39m\u001b[39m'\u001b[39m)\n",
      "File \u001b[0;32m~/miniconda3/envs/torch/lib/python3.9/site-packages/seaborn/categorical.py:2755\u001b[0m, in \u001b[0;36mbarplot\u001b[0;34m(data, x, y, hue, order, hue_order, estimator, errorbar, n_boot, units, seed, orient, color, palette, saturation, width, errcolor, errwidth, capsize, dodge, ci, ax, **kwargs)\u001b[0m\n\u001b[1;32m   2752\u001b[0m \u001b[39mif\u001b[39;00m estimator \u001b[39mis\u001b[39;00m \u001b[39mlen\u001b[39m:\n\u001b[1;32m   2753\u001b[0m     estimator \u001b[39m=\u001b[39m \u001b[39m\"\u001b[39m\u001b[39msize\u001b[39m\u001b[39m\"\u001b[39m\n\u001b[0;32m-> 2755\u001b[0m plotter \u001b[39m=\u001b[39m _BarPlotter(x, y, hue, data, order, hue_order,\n\u001b[1;32m   2756\u001b[0m                       estimator, errorbar, n_boot, units, seed,\n\u001b[1;32m   2757\u001b[0m                       orient, color, palette, saturation,\n\u001b[1;32m   2758\u001b[0m                       width, errcolor, errwidth, capsize, dodge)\n\u001b[1;32m   2760\u001b[0m \u001b[39mif\u001b[39;00m ax \u001b[39mis\u001b[39;00m \u001b[39mNone\u001b[39;00m:\n\u001b[1;32m   2761\u001b[0m     ax \u001b[39m=\u001b[39m plt\u001b[39m.\u001b[39mgca()\n",
      "File \u001b[0;32m~/miniconda3/envs/torch/lib/python3.9/site-packages/seaborn/categorical.py:1530\u001b[0m, in \u001b[0;36m_BarPlotter.__init__\u001b[0;34m(self, x, y, hue, data, order, hue_order, estimator, errorbar, n_boot, units, seed, orient, color, palette, saturation, width, errcolor, errwidth, capsize, dodge)\u001b[0m\n\u001b[1;32m   1525\u001b[0m \u001b[39mdef\u001b[39;00m \u001b[39m__init__\u001b[39m(\u001b[39mself\u001b[39m, x, y, hue, data, order, hue_order,\n\u001b[1;32m   1526\u001b[0m              estimator, errorbar, n_boot, units, seed,\n\u001b[1;32m   1527\u001b[0m              orient, color, palette, saturation, width,\n\u001b[1;32m   1528\u001b[0m              errcolor, errwidth, capsize, dodge):\n\u001b[1;32m   1529\u001b[0m \u001b[39m    \u001b[39m\u001b[39m\"\"\"Initialize the plotter.\"\"\"\u001b[39;00m\n\u001b[0;32m-> 1530\u001b[0m     \u001b[39mself\u001b[39;49m\u001b[39m.\u001b[39;49mestablish_variables(x, y, hue, data, orient,\n\u001b[1;32m   1531\u001b[0m                              order, hue_order, units)\n\u001b[1;32m   1532\u001b[0m     \u001b[39mself\u001b[39m\u001b[39m.\u001b[39mestablish_colors(color, palette, saturation)\n\u001b[1;32m   1533\u001b[0m     \u001b[39mself\u001b[39m\u001b[39m.\u001b[39mestimate_statistic(estimator, errorbar, n_boot, seed)\n",
      "File \u001b[0;32m~/miniconda3/envs/torch/lib/python3.9/site-packages/seaborn/categorical.py:594\u001b[0m, in \u001b[0;36m_CategoricalPlotter.establish_variables\u001b[0;34m(self, x, y, hue, data, orient, order, hue_order, units)\u001b[0m\n\u001b[1;32m    591\u001b[0m group_names \u001b[39m=\u001b[39m categorical_order(groups, order)\n\u001b[1;32m    593\u001b[0m \u001b[39m# Group the numeric data\u001b[39;00m\n\u001b[0;32m--> 594\u001b[0m plot_data, value_label \u001b[39m=\u001b[39m \u001b[39mself\u001b[39;49m\u001b[39m.\u001b[39;49m_group_longform(vals, groups,\n\u001b[1;32m    595\u001b[0m                                               group_names)\n\u001b[1;32m    597\u001b[0m \u001b[39m# Now handle the hue levels for nested ordering\u001b[39;00m\n\u001b[1;32m    598\u001b[0m \u001b[39mif\u001b[39;00m hue \u001b[39mis\u001b[39;00m \u001b[39mNone\u001b[39;00m:\n",
      "File \u001b[0;32m~/miniconda3/envs/torch/lib/python3.9/site-packages/seaborn/categorical.py:641\u001b[0m, in \u001b[0;36m_CategoricalPlotter._group_longform\u001b[0;34m(self, vals, grouper, order)\u001b[0m\n\u001b[1;32m    638\u001b[0m     vals \u001b[39m=\u001b[39m pd\u001b[39m.\u001b[39mSeries(vals, index\u001b[39m=\u001b[39mindex)\n\u001b[1;32m    640\u001b[0m \u001b[39m# Group the val data\u001b[39;00m\n\u001b[0;32m--> 641\u001b[0m grouped_vals \u001b[39m=\u001b[39m vals\u001b[39m.\u001b[39;49mgroupby(grouper)\n\u001b[1;32m    642\u001b[0m out_data \u001b[39m=\u001b[39m []\n\u001b[1;32m    643\u001b[0m \u001b[39mfor\u001b[39;00m g \u001b[39min\u001b[39;00m order:\n",
      "File \u001b[0;32m~/miniconda3/envs/torch/lib/python3.9/site-packages/pandas/core/series.py:2076\u001b[0m, in \u001b[0;36mSeries.groupby\u001b[0;34m(self, by, axis, level, as_index, sort, group_keys, squeeze, observed, dropna)\u001b[0m\n\u001b[1;32m   2073\u001b[0m     \u001b[39mraise\u001b[39;00m \u001b[39mTypeError\u001b[39;00m(\u001b[39m\"\u001b[39m\u001b[39mYou have to supply one of \u001b[39m\u001b[39m'\u001b[39m\u001b[39mby\u001b[39m\u001b[39m'\u001b[39m\u001b[39m and \u001b[39m\u001b[39m'\u001b[39m\u001b[39mlevel\u001b[39m\u001b[39m'\u001b[39m\u001b[39m\"\u001b[39m)\n\u001b[1;32m   2074\u001b[0m axis \u001b[39m=\u001b[39m \u001b[39mself\u001b[39m\u001b[39m.\u001b[39m_get_axis_number(axis)\n\u001b[0;32m-> 2076\u001b[0m \u001b[39mreturn\u001b[39;00m SeriesGroupBy(\n\u001b[1;32m   2077\u001b[0m     obj\u001b[39m=\u001b[39;49m\u001b[39mself\u001b[39;49m,\n\u001b[1;32m   2078\u001b[0m     keys\u001b[39m=\u001b[39;49mby,\n\u001b[1;32m   2079\u001b[0m     axis\u001b[39m=\u001b[39;49maxis,\n\u001b[1;32m   2080\u001b[0m     level\u001b[39m=\u001b[39;49mlevel,\n\u001b[1;32m   2081\u001b[0m     as_index\u001b[39m=\u001b[39;49mas_index,\n\u001b[1;32m   2082\u001b[0m     sort\u001b[39m=\u001b[39;49msort,\n\u001b[1;32m   2083\u001b[0m     group_keys\u001b[39m=\u001b[39;49mgroup_keys,\n\u001b[1;32m   2084\u001b[0m     squeeze\u001b[39m=\u001b[39;49msqueeze,\n\u001b[1;32m   2085\u001b[0m     observed\u001b[39m=\u001b[39;49mobserved,\n\u001b[1;32m   2086\u001b[0m     dropna\u001b[39m=\u001b[39;49mdropna,\n\u001b[1;32m   2087\u001b[0m )\n",
      "File \u001b[0;32m~/miniconda3/envs/torch/lib/python3.9/site-packages/pandas/core/groupby/groupby.py:965\u001b[0m, in \u001b[0;36mGroupBy.__init__\u001b[0;34m(self, obj, keys, axis, level, grouper, exclusions, selection, as_index, sort, group_keys, squeeze, observed, mutated, dropna)\u001b[0m\n\u001b[1;32m    962\u001b[0m \u001b[39mif\u001b[39;00m grouper \u001b[39mis\u001b[39;00m \u001b[39mNone\u001b[39;00m:\n\u001b[1;32m    963\u001b[0m     \u001b[39mfrom\u001b[39;00m \u001b[39mpandas\u001b[39;00m\u001b[39m.\u001b[39;00m\u001b[39mcore\u001b[39;00m\u001b[39m.\u001b[39;00m\u001b[39mgroupby\u001b[39;00m\u001b[39m.\u001b[39;00m\u001b[39mgrouper\u001b[39;00m \u001b[39mimport\u001b[39;00m get_grouper\n\u001b[0;32m--> 965\u001b[0m     grouper, exclusions, obj \u001b[39m=\u001b[39m get_grouper(\n\u001b[1;32m    966\u001b[0m         obj,\n\u001b[1;32m    967\u001b[0m         keys,\n\u001b[1;32m    968\u001b[0m         axis\u001b[39m=\u001b[39;49maxis,\n\u001b[1;32m    969\u001b[0m         level\u001b[39m=\u001b[39;49mlevel,\n\u001b[1;32m    970\u001b[0m         sort\u001b[39m=\u001b[39;49msort,\n\u001b[1;32m    971\u001b[0m         observed\u001b[39m=\u001b[39;49mobserved,\n\u001b[1;32m    972\u001b[0m         mutated\u001b[39m=\u001b[39;49m\u001b[39mself\u001b[39;49m\u001b[39m.\u001b[39;49mmutated,\n\u001b[1;32m    973\u001b[0m         dropna\u001b[39m=\u001b[39;49m\u001b[39mself\u001b[39;49m\u001b[39m.\u001b[39;49mdropna,\n\u001b[1;32m    974\u001b[0m     )\n\u001b[1;32m    976\u001b[0m \u001b[39mself\u001b[39m\u001b[39m.\u001b[39mobj \u001b[39m=\u001b[39m obj\n\u001b[1;32m    977\u001b[0m \u001b[39mself\u001b[39m\u001b[39m.\u001b[39maxis \u001b[39m=\u001b[39m obj\u001b[39m.\u001b[39m_get_axis_number(axis)\n",
      "File \u001b[0;32m~/miniconda3/envs/torch/lib/python3.9/site-packages/pandas/core/groupby/grouper.py:883\u001b[0m, in \u001b[0;36mget_grouper\u001b[0;34m(obj, key, axis, level, sort, observed, mutated, validate, dropna)\u001b[0m\n\u001b[1;32m    879\u001b[0m     in_axis, name, gpr \u001b[39m=\u001b[39m \u001b[39mTrue\u001b[39;00m, gpr, obj[gpr]\n\u001b[1;32m    880\u001b[0m     \u001b[39mif\u001b[39;00m gpr\u001b[39m.\u001b[39mndim \u001b[39m!=\u001b[39m \u001b[39m1\u001b[39m:\n\u001b[1;32m    881\u001b[0m         \u001b[39m# non-unique columns; raise here to get the name in the\u001b[39;00m\n\u001b[1;32m    882\u001b[0m         \u001b[39m# exception message\u001b[39;00m\n\u001b[0;32m--> 883\u001b[0m         \u001b[39mraise\u001b[39;00m \u001b[39mValueError\u001b[39;00m(\u001b[39mf\u001b[39m\u001b[39m\"\u001b[39m\u001b[39mGrouper for \u001b[39m\u001b[39m'\u001b[39m\u001b[39m{\u001b[39;00mname\u001b[39m}\u001b[39;00m\u001b[39m'\u001b[39m\u001b[39m not 1-dimensional\u001b[39m\u001b[39m\"\u001b[39m)\n\u001b[1;32m    884\u001b[0m     exclusions\u001b[39m.\u001b[39madd(name)\n\u001b[1;32m    885\u001b[0m \u001b[39melif\u001b[39;00m obj\u001b[39m.\u001b[39m_is_level_reference(gpr, axis\u001b[39m=\u001b[39maxis):\n",
      "\u001b[0;31mValueError\u001b[0m: Grouper for '2' not 1-dimensional"
     ]
    },
    {
     "data": {
      "text/plain": [
       "<Figure size 800x600 with 0 Axes>"
      ]
     },
     "metadata": {},
     "output_type": "display_data"
    }
   ],
   "source": [
    "probs = []\n",
    "for i in range(2, 9):\n",
    "    file_path = f\"/Users/raffaelepojer/Dev/RBN-GNN/models/triangle_10_8_6_20230725-152135/exp_41/graphs/10_restarts/0_graphs/edge_030/n\"+str(i)+\".rdef\"\n",
    "\n",
    "    edge_index = torch.tensor(extract_edges(file_path))\n",
    "\n",
    "    x = torch.tensor(extract_features(file_path))\n",
    "    batch = torch.zeros(x.size()[0]).type(torch.LongTensor)\n",
    "\n",
    "    out = model(x, edge_index, batch)\n",
    "    m = nn.Softmax(dim=1)\n",
    "    probs.append(m(out)[0][0].item())\n",
    "\n",
    "print(probs)\n",
    "\n",
    "import matplotlib.pyplot as plt\n",
    "import seaborn as sns\n",
    "import numpy as np\n",
    "\n",
    "# Define the number of nodes for each bar\n",
    "num_nodes = list(range(2, 10))\n",
    "\n",
    "# Set LaTeX style for the plot\n",
    "plt.rc('text', usetex=True)\n",
    "plt.rc('font', family='serif')\n",
    "\n",
    "# Create the bar chart\n",
    "plt.figure(figsize=(8, 6), dpi=100)  # Adjust the figure size and dpi as needed\n",
    "sns.barplot(x=num_nodes, y=probs, color='skyblue')\n",
    "\n",
    "# Add labels and title\n",
    "plt.xlabel('Number of Nodes')\n",
    "plt.ylabel('Probability')\n",
    "plt.title('Probability of Each Graph with Respect to Number of Nodes')\n",
    "\n",
    "# Increase the number of ticks on the y-axis (probability)\n",
    "plt.yticks(np.arange(0, 1.1, 0.1))\n",
    "\n",
    "# Add a light grid for better readability\n",
    "plt.grid(axis='y', color='gray', linestyle=':', linewidth=0.5)\n",
    "\n",
    "# Add probabilities as text above each bar\n",
    "for i, prob in enumerate(probs):\n",
    "    plt.text(i, prob + 0.01, f'{prob:.4f}', ha='center')\n",
    "\n",
    "# Save the plot as a high-resolution image (e.g., PNG format)\n",
    "plt.savefig('probability_bar_chart.png', dpi=300, bbox_inches='tight')\n",
    "\n",
    "# Show the plot (optional)\n",
    "plt.show()"
   ]
  },
  {
   "cell_type": "code",
   "execution_count": null,
   "metadata": {},
   "outputs": [],
   "source": []
  }
 ],
 "metadata": {
  "kernelspec": {
   "display_name": "Python 3.9.15 ('torch')",
   "language": "python",
   "name": "python3"
  },
  "language_info": {
   "codemirror_mode": {
    "name": "ipython",
    "version": 3
   },
   "file_extension": ".py",
   "mimetype": "text/x-python",
   "name": "python",
   "nbconvert_exporter": "python",
   "pygments_lexer": "ipython3",
   "version": "3.9.16"
  },
  "orig_nbformat": 4,
  "vscode": {
   "interpreter": {
    "hash": "0992882fe8c69b51f61a222892cb0cf07ce9812c335194f2355ce30cb91946c5"
   }
  }
 },
 "nbformat": 4,
 "nbformat_minor": 2
}
